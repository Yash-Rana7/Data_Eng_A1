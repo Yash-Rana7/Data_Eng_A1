{
 "cells": [
  {
   "cell_type": "markdown",
   "id": "a3377a5e",
   "metadata": {},
   "source": [
    "# Creating a Table with PostgreSQL"
   ]
  },
  {
   "cell_type": "code",
   "execution_count": 1,
   "id": "0584f11d",
   "metadata": {},
   "outputs": [
    {
     "name": "stdout",
     "output_type": "stream",
     "text": [
      "Collecting psycopg2\n",
      "  Obtaining dependency information for psycopg2 from https://files.pythonhosted.org/packages/37/2c/5133dd3183a3bd82371569f0dd783e6927672de7e671b278ce248810b7f7/psycopg2-2.9.9-cp311-cp311-win_amd64.whl.metadata\n",
      "  Downloading psycopg2-2.9.9-cp311-cp311-win_amd64.whl.metadata (4.5 kB)\n",
      "Downloading psycopg2-2.9.9-cp311-cp311-win_amd64.whl (1.2 MB)\n",
      "   ---------------------------------------- 0.0/1.2 MB ? eta -:--:--\n",
      "   - -------------------------------------- 0.0/1.2 MB ? eta -:--:--\n",
      "   -- ------------------------------------- 0.1/1.2 MB 919.0 kB/s eta 0:00:02\n",
      "   -- ------------------------------------- 0.1/1.2 MB 919.0 kB/s eta 0:00:02\n",
      "   -- ------------------------------------- 0.1/1.2 MB 919.0 kB/s eta 0:00:02\n",
      "   --- ------------------------------------ 0.1/1.2 MB 469.7 kB/s eta 0:00:03\n",
      "   ----- ---------------------------------- 0.2/1.2 MB 655.4 kB/s eta 0:00:02\n",
      "   ----- ---------------------------------- 0.2/1.2 MB 655.4 kB/s eta 0:00:02\n",
      "   ------ --------------------------------- 0.2/1.2 MB 513.4 kB/s eta 0:00:02\n",
      "   ------- -------------------------------- 0.2/1.2 MB 518.8 kB/s eta 0:00:02\n",
      "   ------- -------------------------------- 0.2/1.2 MB 492.1 kB/s eta 0:00:02\n",
      "   -------- ------------------------------- 0.2/1.2 MB 503.2 kB/s eta 0:00:02\n",
      "   -------- ------------------------------- 0.3/1.2 MB 462.8 kB/s eta 0:00:02\n",
      "   --------- ------------------------------ 0.3/1.2 MB 449.0 kB/s eta 0:00:02\n",
      "   --------- ------------------------------ 0.3/1.2 MB 432.0 kB/s eta 0:00:03\n",
      "   --------- ------------------------------ 0.3/1.2 MB 432.0 kB/s eta 0:00:03\n",
      "   ----------- ---------------------------- 0.3/1.2 MB 432.5 kB/s eta 0:00:02\n",
      "   ----------- ---------------------------- 0.3/1.2 MB 419.6 kB/s eta 0:00:02\n",
      "   ------------ --------------------------- 0.4/1.2 MB 428.8 kB/s eta 0:00:02\n",
      "   ------------ --------------------------- 0.4/1.2 MB 417.2 kB/s eta 0:00:02\n",
      "   ------------- -------------------------- 0.4/1.2 MB 418.2 kB/s eta 0:00:02\n",
      "   -------------- ------------------------- 0.4/1.2 MB 426.2 kB/s eta 0:00:02\n",
      "   --------------- ------------------------ 0.4/1.2 MB 430.1 kB/s eta 0:00:02\n",
      "   --------------- ------------------------ 0.5/1.2 MB 427.1 kB/s eta 0:00:02\n",
      "   ---------------- ----------------------- 0.5/1.2 MB 446.5 kB/s eta 0:00:02\n",
      "   ----------------- ---------------------- 0.5/1.2 MB 443.2 kB/s eta 0:00:02\n",
      "   ----------------- ---------------------- 0.5/1.2 MB 443.2 kB/s eta 0:00:02\n",
      "   ----------------- ---------------------- 0.5/1.2 MB 443.2 kB/s eta 0:00:02\n",
      "   ----------------- ---------------------- 0.5/1.2 MB 443.2 kB/s eta 0:00:02\n",
      "   ----------------- ---------------------- 0.5/1.2 MB 443.2 kB/s eta 0:00:02\n",
      "   ----------------- ---------------------- 0.5/1.2 MB 376.7 kB/s eta 0:00:02\n",
      "   ----------------- ---------------------- 0.5/1.2 MB 376.7 kB/s eta 0:00:02\n",
      "   -------------------- ------------------- 0.6/1.2 MB 408.8 kB/s eta 0:00:02\n",
      "   --------------------- ------------------ 0.6/1.2 MB 407.1 kB/s eta 0:00:02\n",
      "   --------------------- ------------------ 0.6/1.2 MB 412.3 kB/s eta 0:00:02\n",
      "   ---------------------- ----------------- 0.7/1.2 MB 411.4 kB/s eta 0:00:02\n",
      "   ----------------------- ---------------- 0.7/1.2 MB 415.9 kB/s eta 0:00:02\n",
      "   ----------------------- ---------------- 0.7/1.2 MB 415.9 kB/s eta 0:00:02\n",
      "   ----------------------- ---------------- 0.7/1.2 MB 415.9 kB/s eta 0:00:02\n",
      "   ------------------------- -------------- 0.7/1.2 MB 414.0 kB/s eta 0:00:02\n",
      "   -------------------------- ------------- 0.8/1.2 MB 420.1 kB/s eta 0:00:01\n",
      "   --------------------------- ------------ 0.8/1.2 MB 424.1 kB/s eta 0:00:01\n",
      "   ---------------------------- ----------- 0.8/1.2 MB 428.0 kB/s eta 0:00:01\n",
      "   ---------------------------- ----------- 0.8/1.2 MB 424.7 kB/s eta 0:00:01\n",
      "   ----------------------------- ---------- 0.8/1.2 MB 423.2 kB/s eta 0:00:01\n",
      "   ----------------------------- ---------- 0.9/1.2 MB 420.4 kB/s eta 0:00:01\n",
      "   ----------------------------- ---------- 0.9/1.2 MB 420.4 kB/s eta 0:00:01\n",
      "   ------------------------------ --------- 0.9/1.2 MB 415.9 kB/s eta 0:00:01\n",
      "   ------------------------------ --------- 0.9/1.2 MB 415.9 kB/s eta 0:00:01\n",
      "   ------------------------------- -------- 0.9/1.2 MB 410.9 kB/s eta 0:00:01\n",
      "   -------------------------------- ------- 0.9/1.2 MB 409.6 kB/s eta 0:00:01\n",
      "   -------------------------------- ------- 1.0/1.2 MB 413.0 kB/s eta 0:00:01\n",
      "   --------------------------------- ------ 1.0/1.2 MB 406.5 kB/s eta 0:00:01\n",
      "   --------------------------------- ------ 1.0/1.2 MB 407.0 kB/s eta 0:00:01\n",
      "   ---------------------------------- ----- 1.0/1.2 MB 407.6 kB/s eta 0:00:01\n",
      "   ---------------------------------- ----- 1.0/1.2 MB 404.0 kB/s eta 0:00:01\n",
      "   ----------------------------------- ---- 1.0/1.2 MB 404.6 kB/s eta 0:00:01\n",
      "   ----------------------------------- ---- 1.0/1.2 MB 404.6 kB/s eta 0:00:01\n",
      "   ----------------------------------- ---- 1.0/1.2 MB 396.4 kB/s eta 0:00:01\n",
      "   ------------------------------------ --- 1.1/1.2 MB 397.1 kB/s eta 0:00:01\n",
      "   ------------------------------------ --- 1.1/1.2 MB 397.1 kB/s eta 0:00:01\n",
      "   ------------------------------------- -- 1.1/1.2 MB 395.6 kB/s eta 0:00:01\n",
      "   ------------------------------------- -- 1.1/1.2 MB 392.6 kB/s eta 0:00:01\n",
      "   -------------------------------------- - 1.1/1.2 MB 393.3 kB/s eta 0:00:01\n",
      "   -------------------------------------- - 1.1/1.2 MB 390.4 kB/s eta 0:00:01\n",
      "   ---------------------------------------  1.1/1.2 MB 393.3 kB/s eta 0:00:01\n",
      "   ---------------------------------------  1.1/1.2 MB 393.3 kB/s eta 0:00:01\n",
      "   ---------------------------------------  1.2/1.2 MB 388.4 kB/s eta 0:00:01\n",
      "   ---------------------------------------  1.2/1.2 MB 388.4 kB/s eta 0:00:01\n",
      "   ---------------------------------------- 1.2/1.2 MB 380.5 kB/s eta 0:00:00\n",
      "Installing collected packages: psycopg2\n",
      "Successfully installed psycopg2-2.9.9\n"
     ]
    }
   ],
   "source": [
    "#!pip install psycopg2"
   ]
  },
  {
   "cell_type": "markdown",
   "id": "b883d372",
   "metadata": {},
   "source": [
    "# Import the library"
   ]
  },
  {
   "cell_type": "code",
   "execution_count": 2,
   "id": "2aa956c8",
   "metadata": {},
   "outputs": [],
   "source": [
    "import psycopg2"
   ]
  },
  {
   "cell_type": "markdown",
   "id": "c61e2116",
   "metadata": {},
   "source": [
    "# Create a connection to the database"
   ]
  },
  {
   "cell_type": "code",
   "execution_count": 5,
   "id": "7f896287",
   "metadata": {},
   "outputs": [],
   "source": [
    "try: \n",
    "    conn = psycopg2.connect(\"host=127.0.0.1 dbname=postgres user=postgres password=ROOT\")\n",
    "except psycopg2.Error as e: \n",
    "    print(\"Error: Could not make connection to the Postgres database\")\n",
    "    print(e)"
   ]
  },
  {
   "cell_type": "markdown",
   "id": "dcfeb5b9",
   "metadata": {},
   "source": [
    "# Use the connection to get a cursor that can be used to execute queries."
   ]
  },
  {
   "cell_type": "code",
   "execution_count": 6,
   "id": "9d4bc0ac",
   "metadata": {},
   "outputs": [],
   "source": [
    "try: \n",
    "    cur = conn.cursor()\n",
    "except psycopg2.Error as e: \n",
    "    print(\"Error: Could not get curser to the Database\")\n",
    "    print(e)"
   ]
  },
  {
   "cell_type": "markdown",
   "id": "2a9ea315",
   "metadata": {},
   "source": [
    "# Set automatic commit to be true so that each action is committed without having to call conn.commit() after each command."
   ]
  },
  {
   "cell_type": "code",
   "execution_count": 7,
   "id": "cfa20a5f",
   "metadata": {},
   "outputs": [],
   "source": [
    "conn.set_session(autocommit=True)"
   ]
  },
  {
   "cell_type": "markdown",
   "id": "8ad8a49c",
   "metadata": {},
   "source": [
    "# Create a database to do the work in"
   ]
  },
  {
   "cell_type": "code",
   "execution_count": 10,
   "id": "d151b21a",
   "metadata": {},
   "outputs": [
    {
     "name": "stdout",
     "output_type": "stream",
     "text": [
      "database \"myfirstdb\" already exists\n",
      "\n"
     ]
    }
   ],
   "source": [
    "try: \n",
    "    cur.execute(\"create database myfirstdb\")\n",
    "except psycopg2.Error as e:\n",
    "    print(e)"
   ]
  },
  {
   "cell_type": "markdown",
   "id": "0aef9b79",
   "metadata": {},
   "source": [
    "# Add the database name in the connect statement. Let's close our connection to the default database, reconnect to the Udacity database, and get a new cursor."
   ]
  },
  {
   "cell_type": "code",
   "execution_count": 11,
   "id": "ce30702d",
   "metadata": {},
   "outputs": [],
   "source": [
    "try: \n",
    "    conn.close()\n",
    "except psycopg2.Error as e:\n",
    "    print(e)\n",
    "    \n",
    "try: \n",
    "    conn = psycopg2.connect(\"host=127.0.0.1 dbname=myfirstdb user=postgres password=ROOT\")\n",
    "except psycopg2.Error as e: \n",
    "    print(\"Error: Could not make connection to the Postgres database\")\n",
    "    print(e)\n",
    "    \n",
    "try: \n",
    "    cur = conn.cursor()\n",
    "except psycopg2.Error as e: \n",
    "    print(\"Error: Could not get curser to the Database\")\n",
    "    print(e)\n",
    "\n",
    "conn.set_session(autocommit=True)"
   ]
  },
  {
   "cell_type": "markdown",
   "id": "7dd4ddae",
   "metadata": {},
   "source": [
    "# Create Table for students which includes below columns\n",
    "student_id\n",
    "name\n",
    "age\n",
    "gender\n",
    "subject\n",
    "marks"
   ]
  },
  {
   "cell_type": "code",
   "execution_count": 12,
   "id": "15552ab8",
   "metadata": {},
   "outputs": [],
   "source": [
    "try: \n",
    "    cur.execute(\"CREATE TABLE IF NOT EXISTS students (student_id int, name varchar,\\\n",
    "    age int, gender varchar, subject varchar, marks int);\")\n",
    "except psycopg2.Error as e: \n",
    "    print(\"Error: Issue creating table\")\n",
    "    print (e)"
   ]
  },
  {
   "cell_type": "markdown",
   "id": "cfd41bf3",
   "metadata": {},
   "source": [
    "# Insert the following two rows in the table\n",
    "First Row: 1, \"Raj\", 23, \"Male\", \"Python\", 85\n",
    "\n",
    "Second Row: 2, \"Priya\", 22, \"Female\", \"Python\", 86"
   ]
  },
  {
   "cell_type": "code",
   "execution_count": 13,
   "id": "960021ae",
   "metadata": {},
   "outputs": [],
   "source": [
    "try: \n",
    "    cur.execute(\"INSERT INTO students (student_id, name, age, gender, subject, marks) \\\n",
    "                 VALUES (%s, %s, %s, %s, %s, %s)\", \\\n",
    "                 (1, \"Raj\", 23, \"Male\", \"Python\", 85))\n",
    "except psycopg2.Error as e: \n",
    "    print(\"Error: Inserting Rows\")\n",
    "    print (e)\n",
    "    \n",
    "try: \n",
    "    cur.execute(\"INSERT INTO students (student_id, name, age, gender, subject, marks) \\\n",
    "                  VALUES (%s, %s, %s, %s, %s, %s)\",\n",
    "                  ( 2, \"Priya\", 22, \"Female\", \"Python\", 86))\n",
    "except psycopg2.Error as e: \n",
    "    print(\"Error: Inserting Rows\")\n",
    "    print (e)"
   ]
  },
  {
   "cell_type": "markdown",
   "id": "7e5633ef",
   "metadata": {},
   "source": [
    "# Validate your data was inserted into the table."
   ]
  },
  {
   "cell_type": "code",
   "execution_count": 14,
   "id": "20c395a2",
   "metadata": {},
   "outputs": [
    {
     "name": "stdout",
     "output_type": "stream",
     "text": [
      "(1, 'Raj', 23, 'Male', 'Python', 85)\n",
      "(2, 'Priya', 22, 'Female', 'Python', 86)\n"
     ]
    }
   ],
   "source": [
    "try: \n",
    "    cur.execute(\"SELECT * FROM students;\")\n",
    "except psycopg2.Error as e: \n",
    "    print(\"Error: select *\")\n",
    "    print (e)\n",
    "\n",
    "row = cur.fetchone()\n",
    "while row:\n",
    "    print(row)\n",
    "    row = cur.fetchone()"
   ]
  },
  {
   "cell_type": "markdown",
   "id": "1c5700c7",
   "metadata": {},
   "source": [
    "# And finally close your cursor and connection."
   ]
  },
  {
   "cell_type": "code",
   "execution_count": 15,
   "id": "f110ed4e",
   "metadata": {},
   "outputs": [],
   "source": [
    "cur.close()\n",
    "conn.close()"
   ]
  },
  {
   "cell_type": "code",
   "execution_count": null,
   "id": "a53cd649",
   "metadata": {},
   "outputs": [],
   "source": []
  },
  {
   "cell_type": "code",
   "execution_count": null,
   "id": "d73fa4a9",
   "metadata": {},
   "outputs": [],
   "source": []
  }
 ],
 "metadata": {
  "kernelspec": {
   "display_name": "Python 3 (ipykernel)",
   "language": "python",
   "name": "python3"
  },
  "language_info": {
   "codemirror_mode": {
    "name": "ipython",
    "version": 3
   },
   "file_extension": ".py",
   "mimetype": "text/x-python",
   "name": "python",
   "nbconvert_exporter": "python",
   "pygments_lexer": "ipython3",
   "version": "3.11.4"
  }
 },
 "nbformat": 4,
 "nbformat_minor": 5
}
